{
 "cells": [
  {
   "cell_type": "code",
   "execution_count": 1,
   "metadata": {},
   "outputs": [],
   "source": [
    "import numpy as np\n",
    "import matplotlib.pyplot as plt\n",
    "from scipy.fftpack import fft\n",
    "from sklearn import svm\n",
    "from sklearn.metrics import accuracy_score"
   ]
  },
  {
   "cell_type": "code",
   "execution_count": 2,
   "metadata": {},
   "outputs": [],
   "source": [
    "random = np.random.RandomState(0)\n",
    "orgn_N, test_N, K = 10000, 2000, 5\n",
    "orgn_data = np.hstack([\n",
    "    (np.load('data_hw2/train_data.npy') - 10) / 20, np.expand_dims(np.load('data_hw2/train_label.npy'), axis=1)])\n",
    "test_data = np.hstack([\n",
    "    (np.load('data_hw2/test_data.npy') - 10) / 20, np.expand_dims(np.load('data_hw2/test_label.npy'), axis=1)])\n",
    "random.shuffle(orgn_data)\n",
    "random.shuffle(test_data)\n",
    "orgn_data = orgn_data[:orgn_N]\n",
    "test_data = test_data[:test_N]\n",
    "fold_size = orgn_N // K\n",
    "fold_data = [orgn_data[i*fold_size: (i+1)*fold_size] for i in range(K - 1)]\n",
    "fold_data.append(orgn_data[(K-1)*fold_size:])"
   ]
  },
  {
   "cell_type": "code",
   "execution_count": 3,
   "metadata": {},
   "outputs": [
    {
     "name": "stdout",
     "output_type": "stream",
     "text": [
      "model_0 valid_acc=0.8225 tests_acc=0.6845\n",
      "model_1 valid_acc=1.0000 tests_acc=0.6765\n",
      "model_2 valid_acc=0.6905 tests_acc=0.6575\n",
      "Fold 0: valid=0.8270 test=0.5590\n",
      "\n",
      "model_0 valid_acc=0.8225 tests_acc=0.6765\n",
      "model_1 valid_acc=1.0000 tests_acc=0.6765\n",
      "model_2 valid_acc=0.6990 tests_acc=0.6575\n",
      "Fold 1: valid=0.8425 test=0.5725\n",
      "\n",
      "model_0 valid_acc=0.8390 tests_acc=0.6935\n",
      "model_1 valid_acc=1.0000 tests_acc=0.6765\n",
      "model_2 valid_acc=0.7010 tests_acc=0.6575\n",
      "Fold 2: valid=0.8395 test=0.5385\n",
      "\n",
      "model_0 valid_acc=0.8335 tests_acc=0.6895\n",
      "model_1 valid_acc=1.0000 tests_acc=0.6765\n",
      "model_2 valid_acc=0.6820 tests_acc=0.6575\n",
      "Fold 3: valid=0.8315 test=0.5765\n",
      "\n",
      "model_0 valid_acc=0.8125 tests_acc=0.6770\n",
      "model_1 valid_acc=1.0000 tests_acc=0.6765\n",
      "model_2 valid_acc=0.6870 tests_acc=0.6575\n",
      "Fold 4: valid=0.8355 test=0.5715\n",
      "\n"
     ]
    }
   ],
   "source": [
    "DIM = 310\n",
    "\n",
    "def decision2proba(x):\n",
    "    return 1 / (1 + np.exp(-x))\n",
    "\n",
    "def decision2class(x):\n",
    "    return (x > 0).astype(np.int8)\n",
    "\n",
    "def _1vsRest(template, train_y, valid_y, tests_y):\n",
    "    proj = lambda y: np.array(template)[y.astype(np.int8)]\n",
    "    return proj(train_y), proj(valid_y), proj(tests_y)\n",
    "\n",
    "for i in range(K):\n",
    "    models = [\n",
    "        svm.SVC(kernel='rbf', gamma=0.01, C=2),\n",
    "        svm.SVC(kernel='rbf', gamma=1, C=1),\n",
    "        svm.SVC(kernel='rbf', gamma=0.008, C=1),\n",
    "    ]\n",
    "    \n",
    "    valid_data = fold_data[i]\n",
    "    train_data = np.vstack(fold_data[:i] + fold_data[i+1:])\n",
    "    train_X, train_y = train_data[:,:DIM], train_data[:,310]\n",
    "    valid_X, valid_y = valid_data[:,:DIM], valid_data[:,310]\n",
    "    tests_X, tests_y = test_data[:, :DIM], test_data[:, 310]\n",
    "    predict_valid, predict_tests = [], []\n",
    "    \n",
    "    # 0 vs 1, -1; 1 vs 0, -1; -1 vs 0, 1\n",
    "    for j in range(3):\n",
    "        _train_y, _valid_y, _tests_y = _1vsRest(np.eye(3)[j], train_y, valid_y, tests_y)\n",
    "        models[j].fit(train_X, _train_y)\n",
    "        valid_acc = accuracy_score(_valid_y, decision2class(models[j].decision_function(valid_X)))\n",
    "        tests_acc = accuracy_score(_tests_y, decision2class(models[j].decision_function(tests_X)))\n",
    "        predict_valid.append(decision2proba(models[j].decision_function(valid_X)))\n",
    "        predict_tests.append(decision2proba(models[j].decision_function(tests_X)))\n",
    "        print(\"model_%d valid_acc=%.4f tests_acc=%.4f\" % (j, valid_acc, tests_acc))\n",
    "\n",
    "    valid_acc = accuracy_score(valid_y, np.array([0, 1, -1])[np.argmax(predict_valid, axis=0)])\n",
    "    tests_acc = accuracy_score(tests_y, np.array([0, 1, -1])[np.argmax(predict_tests, axis=0)])\n",
    "    print(\"Fold %d: valid=%.4f test=%.4f\\n\" % (i, valid_acc, tests_acc))"
   ]
  },
  {
   "cell_type": "code",
   "execution_count": null,
   "metadata": {},
   "outputs": [],
   "source": []
  }
 ],
 "metadata": {
  "kernelspec": {
   "display_name": "Python 3",
   "language": "python",
   "name": "python3"
  },
  "language_info": {
   "codemirror_mode": {
    "name": "ipython",
    "version": 3
   },
   "file_extension": ".py",
   "mimetype": "text/x-python",
   "name": "python",
   "nbconvert_exporter": "python",
   "pygments_lexer": "ipython3",
   "version": "3.8.3"
  }
 },
 "nbformat": 4,
 "nbformat_minor": 4
}
